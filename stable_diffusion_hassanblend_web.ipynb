{
  "cells": [
    {
      "cell_type": "markdown",
      "metadata": {
        "id": "view-in-github",
        "colab_type": "text"
      },
      "source": [
        "<a href=\"https://colab.research.google.com/github/TrapsterDK/Stable-diffusion-web-models/blob/master/stable_diffusion_hassanblend_web.ipynb\" target=\"_parent\"><img src=\"https://colab.research.google.com/assets/colab-badge.svg\" alt=\"Open In Colab\"/></a>"
      ]
    },
    {
      "cell_type": "code",
      "execution_count": null,
      "metadata": {
        "id": "SaAJk33ppFw1"
      },
      "outputs": [],
      "source": [
        "!pip install -q https://github.com/camenduru/stable-diffusion-webui-colab/releases/download/0.0.16/xformers-0.0.16+814314d.d20230118-cp38-cp38-linux_x86_64.whl\n",
        "!pip install -q --pre triton\n",
        "\n",
        "!git clone -b v1.6 https://github.com/camenduru/stable-diffusion-webui\n",
        "!wget https://raw.githubusercontent.com/camenduru/stable-diffusion-webui-scripts/main/run_n_times.py -O /content/stable-diffusion-webui/scripts/run_n_times.py\n",
        "!git clone -b v1.6 https://github.com/camenduru/deforum-for-automatic1111-webui /content/stable-diffusion-webui/extensions/deforum-for-automatic1111-webui\n",
        "!git clone -b v1.6 https://github.com/camenduru/stable-diffusion-webui-images-browser /content/stable-diffusion-webui/extensions/stable-diffusion-webui-images-browser\n",
        "!git clone -b v1.6 https://github.com/camenduru/stable-diffusion-webui-huggingface /content/stable-diffusion-webui/extensions/stable-diffusion-webui-huggingface\n",
        "!git clone -b v1.6 https://github.com/camenduru/sd-civitai-browser /content/stable-diffusion-webui/extensions/sd-civitai-browser\n",
        "!git clone -b v1.6 https://github.com/camenduru/sd-webui-additional-networks /content/stable-diffusion-webui/extensions/sd-webui-additional-networks\n",
        "%cd /content/stable-diffusion-webui\n",
        "\n",
        "#hassanblend\n",
        "!wget 'https://raw.githubusercontent.com/TrapsterDK/Stable-diffusion-web-models/master/hassanblend_config.json' -O '/content/stable-diffusion-webui/config.json'\n",
        "!wget 'https://civitai.com/api/download/models/4635?type=Pruned%20Model&format=PickleTensor' -O '/content/stable-diffusion-webui/models/Stable-diffusion/hassanblend-15.ckpt'\n",
        "!wget 'https://huggingface.co/stabilityai/sd-vae-ft-mse-original/resolve/main/vae-ft-mse-840000-ema-pruned.ckpt' -O '/content/stable-diffusion-webui/models/VAE/vae-ft-mse-840000-ema-pruned.ckpt'\n",
        "\n",
        "#control net\n",
        "use_controlnet = True\n",
        "\n",
        "if use_controlnet:\n",
        "  !git clone https://github.com/Mikubill/sd-webui-controlnet.git /content/stable-diffusion-webui/extensions/sd-webui-controlnet\n",
        "\n",
        "  # only needed models should be dowloaded as they each take up 5gb space\n",
        "  controlnet_models = [\n",
        "      #'control_sd15_canny.pth',\n",
        "      #'control_sd15_depth.pth',\n",
        "      #'control_sd15_hed.pth',\n",
        "      #'control_sd15_mlsd.pth',\n",
        "      #'control_sd15_normal.pth',\n",
        "      'control_sd15_openpose.pth',\n",
        "      #'control_sd15_scribble.pth',\n",
        "      #'control_sd15_seg.pth'\n",
        "  ]\n",
        "\n",
        "  for model in controlnet_models:\n",
        "    from_path = f\"https://huggingface.co/lllyasviel/ControlNet/resolve/main/models/{model}\"\n",
        "    to_path = f\"/content/stable-diffusion-webui/extensions/sd-webui-controlnet/models/{model}\"\n",
        "    !wget {from_path} -O {to_path}\n",
        "\n",
        "\n",
        "\n",
        "!pip install --force-reinstall -v \" fastapi==0.90\"\n",
        "\n",
        "!sed -i -e '''/prepare_environment()/a\\    os.system\\(f\\\"\"\"sed -i -e ''\\\"s/self.logvar\\\\[t\\\\]/self.logvar\\\\[t.item()\\\\]/g\\\"'' /content/stable-diffusion-webui/repositories/stable-diffusion-stability-ai/ldm/models/diffusion/ddpm.py\"\"\")''' /content/stable-diffusion-webui/launch.py\n",
        "!sed -i -e '''/prepare_environment()/a\\    os.system\\(f\\\"\"\"sed -i -e ''\\\"s/dict()))/dict())).cuda()/g\\\"'' /content/stable-diffusion-webui/repositories/stable-diffusion-stability-ai/ldm/util.py\"\"\")''' /content/stable-diffusion-webui/launch.py\n",
        "!python launch.py --share --xformers --enable-insecure-extension-access"
      ]
    },
    {
      "cell_type": "code",
      "source": [
        "!python launch.py --share --xformers --enable-insecure-extension-access"
      ],
      "metadata": {
        "id": "OLnByIsyCyZ6"
      },
      "execution_count": null,
      "outputs": []
    },
    {
      "cell_type": "code",
      "source": [
        "!mkdir /content/frames\n",
        "!ffmpeg -i /content/video.mp4 /content/frames/%04d.png"
      ],
      "metadata": {
        "id": "EIcW1ReAIq7A"
      },
      "execution_count": null,
      "outputs": []
    }
  ],
  "metadata": {
    "accelerator": "GPU",
    "colab": {
      "private_outputs": true,
      "provenance": [],
      "include_colab_link": true
    },
    "gpuClass": "standard",
    "kernelspec": {
      "display_name": "Python 3",
      "name": "python3"
    },
    "language_info": {
      "name": "python"
    }
  },
  "nbformat": 4,
  "nbformat_minor": 0
}